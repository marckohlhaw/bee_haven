{
 "cells": [
  {
   "cell_type": "code",
   "execution_count": 2,
   "id": "7358c2e7",
   "metadata": {},
   "outputs": [],
   "source": [
    "import pandas as pd\n",
    "from pathlib import Path"
   ]
  },
  {
   "cell_type": "code",
   "execution_count": 3,
   "id": "84c70cc6",
   "metadata": {},
   "outputs": [],
   "source": [
    "BRONZE_DIR = Path('../../data/bronze/new')"
   ]
  },
  {
   "cell_type": "code",
   "execution_count": 4,
   "id": "5f953f7c",
   "metadata": {},
   "outputs": [],
   "source": [
    "humidity_df = pd.read_csv(BRONZE_DIR / 'humidity_schwartau.csv')"
   ]
  },
  {
   "cell_type": "code",
   "execution_count": 5,
   "id": "03e6f9f1",
   "metadata": {},
   "outputs": [
    {
     "data": {
      "text/html": [
       "<div>\n",
       "<style scoped>\n",
       "    .dataframe tbody tr th:only-of-type {\n",
       "        vertical-align: middle;\n",
       "    }\n",
       "\n",
       "    .dataframe tbody tr th {\n",
       "        vertical-align: top;\n",
       "    }\n",
       "\n",
       "    .dataframe thead th {\n",
       "        text-align: right;\n",
       "    }\n",
       "</style>\n",
       "<table border=\"1\" class=\"dataframe\">\n",
       "  <thead>\n",
       "    <tr style=\"text-align: right;\">\n",
       "      <th></th>\n",
       "      <th>timestamp</th>\n",
       "      <th>humidity</th>\n",
       "    </tr>\n",
       "  </thead>\n",
       "  <tbody>\n",
       "    <tr>\n",
       "      <th>0</th>\n",
       "      <td>2017-01-01 13:00:00</td>\n",
       "      <td>98.04</td>\n",
       "    </tr>\n",
       "    <tr>\n",
       "      <th>1</th>\n",
       "      <td>2017-01-02 01:00:00</td>\n",
       "      <td>98.61</td>\n",
       "    </tr>\n",
       "    <tr>\n",
       "      <th>2</th>\n",
       "      <td>2017-01-02 13:00:00</td>\n",
       "      <td>99.00</td>\n",
       "    </tr>\n",
       "    <tr>\n",
       "      <th>3</th>\n",
       "      <td>2017-01-03 01:00:00</td>\n",
       "      <td>98.49</td>\n",
       "    </tr>\n",
       "    <tr>\n",
       "      <th>4</th>\n",
       "      <td>2017-01-03 13:00:00</td>\n",
       "      <td>98.32</td>\n",
       "    </tr>\n",
       "    <tr>\n",
       "      <th>...</th>\n",
       "      <td>...</td>\n",
       "      <td>...</td>\n",
       "    </tr>\n",
       "    <tr>\n",
       "      <th>1756</th>\n",
       "      <td>2019-05-29 14:00:00</td>\n",
       "      <td>92.87</td>\n",
       "    </tr>\n",
       "    <tr>\n",
       "      <th>1757</th>\n",
       "      <td>2019-05-30 02:00:00</td>\n",
       "      <td>94.77</td>\n",
       "    </tr>\n",
       "    <tr>\n",
       "      <th>1758</th>\n",
       "      <td>2019-05-30 14:00:00</td>\n",
       "      <td>94.90</td>\n",
       "    </tr>\n",
       "    <tr>\n",
       "      <th>1759</th>\n",
       "      <td>2019-05-31 02:00:00</td>\n",
       "      <td>95.84</td>\n",
       "    </tr>\n",
       "    <tr>\n",
       "      <th>1760</th>\n",
       "      <td>2019-05-31 14:00:00</td>\n",
       "      <td>92.79</td>\n",
       "    </tr>\n",
       "  </tbody>\n",
       "</table>\n",
       "<p>1761 rows × 2 columns</p>\n",
       "</div>"
      ],
      "text/plain": [
       "                timestamp  humidity\n",
       "0     2017-01-01 13:00:00     98.04\n",
       "1     2017-01-02 01:00:00     98.61\n",
       "2     2017-01-02 13:00:00     99.00\n",
       "3     2017-01-03 01:00:00     98.49\n",
       "4     2017-01-03 13:00:00     98.32\n",
       "...                   ...       ...\n",
       "1756  2019-05-29 14:00:00     92.87\n",
       "1757  2019-05-30 02:00:00     94.77\n",
       "1758  2019-05-30 14:00:00     94.90\n",
       "1759  2019-05-31 02:00:00     95.84\n",
       "1760  2019-05-31 14:00:00     92.79\n",
       "\n",
       "[1761 rows x 2 columns]"
      ]
     },
     "execution_count": 5,
     "metadata": {},
     "output_type": "execute_result"
    }
   ],
   "source": [
    "humidity_df"
   ]
  },
  {
   "cell_type": "code",
   "execution_count": null,
   "id": "0ba22d3d",
   "metadata": {},
   "outputs": [],
   "source": []
  }
 ],
 "metadata": {
  "kernelspec": {
   "display_name": ".venv",
   "language": "python",
   "name": "python3"
  },
  "language_info": {
   "codemirror_mode": {
    "name": "ipython",
    "version": 3
   },
   "file_extension": ".py",
   "mimetype": "text/x-python",
   "name": "python",
   "nbconvert_exporter": "python",
   "pygments_lexer": "ipython3",
   "version": "3.12.9"
  }
 },
 "nbformat": 4,
 "nbformat_minor": 5
}
