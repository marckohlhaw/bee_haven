{
 "cells": [
  {
   "cell_type": "code",
   "execution_count": 1,
   "id": "30836008",
   "metadata": {},
   "outputs": [],
   "source": [
    "import pandas as pd\n",
    "from pathlib import Path"
   ]
  },
  {
   "cell_type": "code",
   "execution_count": 2,
   "id": "50b9610b",
   "metadata": {},
   "outputs": [],
   "source": [
    "BRONZE_DIR = Path('../../data/bronze/new')"
   ]
  },
  {
   "cell_type": "code",
   "execution_count": 3,
   "id": "01a84d59",
   "metadata": {},
   "outputs": [],
   "source": [
    "weight_df = pd.read_csv(BRONZE_DIR / 'weight_schwartau.csv')"
   ]
  },
  {
   "cell_type": "code",
   "execution_count": 4,
   "id": "0490cc54",
   "metadata": {},
   "outputs": [
    {
     "data": {
      "text/html": [
       "<div>\n",
       "<style scoped>\n",
       "    .dataframe tbody tr th:only-of-type {\n",
       "        vertical-align: middle;\n",
       "    }\n",
       "\n",
       "    .dataframe tbody tr th {\n",
       "        vertical-align: top;\n",
       "    }\n",
       "\n",
       "    .dataframe thead th {\n",
       "        text-align: right;\n",
       "    }\n",
       "</style>\n",
       "<table border=\"1\" class=\"dataframe\">\n",
       "  <thead>\n",
       "    <tr style=\"text-align: right;\">\n",
       "      <th></th>\n",
       "      <th>timestamp</th>\n",
       "      <th>weight</th>\n",
       "    </tr>\n",
       "  </thead>\n",
       "  <tbody>\n",
       "    <tr>\n",
       "      <th>0</th>\n",
       "      <td>2017-01-01 13:00:00</td>\n",
       "      <td>50736.790078</td>\n",
       "    </tr>\n",
       "    <tr>\n",
       "      <th>1</th>\n",
       "      <td>2017-01-02 01:00:00</td>\n",
       "      <td>50700.685000</td>\n",
       "    </tr>\n",
       "    <tr>\n",
       "      <th>2</th>\n",
       "      <td>2017-01-02 13:00:00</td>\n",
       "      <td>50614.907500</td>\n",
       "    </tr>\n",
       "    <tr>\n",
       "      <th>3</th>\n",
       "      <td>2017-01-03 01:00:00</td>\n",
       "      <td>50739.824167</td>\n",
       "    </tr>\n",
       "    <tr>\n",
       "      <th>4</th>\n",
       "      <td>2017-01-03 13:00:00</td>\n",
       "      <td>50799.746944</td>\n",
       "    </tr>\n",
       "    <tr>\n",
       "      <th>...</th>\n",
       "      <td>...</td>\n",
       "      <td>...</td>\n",
       "    </tr>\n",
       "    <tr>\n",
       "      <th>1756</th>\n",
       "      <td>2019-05-29 14:00:00</td>\n",
       "      <td>74938.619028</td>\n",
       "    </tr>\n",
       "    <tr>\n",
       "      <th>1757</th>\n",
       "      <td>2019-05-30 02:00:00</td>\n",
       "      <td>74587.528333</td>\n",
       "    </tr>\n",
       "    <tr>\n",
       "      <th>1758</th>\n",
       "      <td>2019-05-30 14:00:00</td>\n",
       "      <td>75265.285694</td>\n",
       "    </tr>\n",
       "    <tr>\n",
       "      <th>1759</th>\n",
       "      <td>2019-05-31 02:00:00</td>\n",
       "      <td>75129.853611</td>\n",
       "    </tr>\n",
       "    <tr>\n",
       "      <th>1760</th>\n",
       "      <td>2019-05-31 14:00:00</td>\n",
       "      <td>74620.431250</td>\n",
       "    </tr>\n",
       "  </tbody>\n",
       "</table>\n",
       "<p>1761 rows × 2 columns</p>\n",
       "</div>"
      ],
      "text/plain": [
       "                timestamp        weight\n",
       "0     2017-01-01 13:00:00  50736.790078\n",
       "1     2017-01-02 01:00:00  50700.685000\n",
       "2     2017-01-02 13:00:00  50614.907500\n",
       "3     2017-01-03 01:00:00  50739.824167\n",
       "4     2017-01-03 13:00:00  50799.746944\n",
       "...                   ...           ...\n",
       "1756  2019-05-29 14:00:00  74938.619028\n",
       "1757  2019-05-30 02:00:00  74587.528333\n",
       "1758  2019-05-30 14:00:00  75265.285694\n",
       "1759  2019-05-31 02:00:00  75129.853611\n",
       "1760  2019-05-31 14:00:00  74620.431250\n",
       "\n",
       "[1761 rows x 2 columns]"
      ]
     },
     "execution_count": 4,
     "metadata": {},
     "output_type": "execute_result"
    }
   ],
   "source": [
    "weight_df"
   ]
  },
  {
   "cell_type": "code",
   "execution_count": null,
   "id": "25d53628",
   "metadata": {},
   "outputs": [],
   "source": []
  }
 ],
 "metadata": {
  "kernelspec": {
   "display_name": ".venv",
   "language": "python",
   "name": "python3"
  },
  "language_info": {
   "codemirror_mode": {
    "name": "ipython",
    "version": 3
   },
   "file_extension": ".py",
   "mimetype": "text/x-python",
   "name": "python",
   "nbconvert_exporter": "python",
   "pygments_lexer": "ipython3",
   "version": "3.12.9"
  }
 },
 "nbformat": 4,
 "nbformat_minor": 5
}
