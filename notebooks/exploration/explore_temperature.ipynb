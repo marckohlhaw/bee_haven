{
 "cells": [
  {
   "cell_type": "code",
   "execution_count": 1,
   "id": "418105f7",
   "metadata": {},
   "outputs": [],
   "source": [
    "import pandas as pd\n",
    "from pathlib import Path"
   ]
  },
  {
   "cell_type": "code",
   "execution_count": 2,
   "id": "75e6c845",
   "metadata": {},
   "outputs": [],
   "source": [
    "BRONZE_DIR = Path('../../data/bronze/new')"
   ]
  },
  {
   "cell_type": "code",
   "execution_count": 3,
   "id": "a1ecdab2",
   "metadata": {},
   "outputs": [],
   "source": [
    "temperature_df = pd.read_csv(BRONZE_DIR / 'temperature_schwartau.csv')"
   ]
  },
  {
   "cell_type": "code",
   "execution_count": 4,
   "id": "ee180dc7",
   "metadata": {},
   "outputs": [
    {
     "data": {
      "text/html": [
       "<div>\n",
       "<style scoped>\n",
       "    .dataframe tbody tr th:only-of-type {\n",
       "        vertical-align: middle;\n",
       "    }\n",
       "\n",
       "    .dataframe tbody tr th {\n",
       "        vertical-align: top;\n",
       "    }\n",
       "\n",
       "    .dataframe thead th {\n",
       "        text-align: right;\n",
       "    }\n",
       "</style>\n",
       "<table border=\"1\" class=\"dataframe\">\n",
       "  <thead>\n",
       "    <tr style=\"text-align: right;\">\n",
       "      <th></th>\n",
       "      <th>timestamp</th>\n",
       "      <th>temperature</th>\n",
       "    </tr>\n",
       "  </thead>\n",
       "  <tbody>\n",
       "    <tr>\n",
       "      <th>0</th>\n",
       "      <td>2017-01-01 14:10:00</td>\n",
       "      <td>NaN</td>\n",
       "    </tr>\n",
       "    <tr>\n",
       "      <th>1</th>\n",
       "      <td>2017-01-01 14:15:00</td>\n",
       "      <td>12.34</td>\n",
       "    </tr>\n",
       "    <tr>\n",
       "      <th>2</th>\n",
       "      <td>2017-01-01 14:20:00</td>\n",
       "      <td>12.27</td>\n",
       "    </tr>\n",
       "    <tr>\n",
       "      <th>3</th>\n",
       "      <td>2017-01-01 14:25:00</td>\n",
       "      <td>12.28</td>\n",
       "    </tr>\n",
       "    <tr>\n",
       "      <th>4</th>\n",
       "      <td>2017-01-01 14:30:00</td>\n",
       "      <td>12.36</td>\n",
       "    </tr>\n",
       "    <tr>\n",
       "      <th>...</th>\n",
       "      <td>...</td>\n",
       "      <td>...</td>\n",
       "    </tr>\n",
       "    <tr>\n",
       "      <th>253425</th>\n",
       "      <td>2019-05-31 13:55:00</td>\n",
       "      <td>34.71</td>\n",
       "    </tr>\n",
       "    <tr>\n",
       "      <th>253426</th>\n",
       "      <td>2019-05-31 14:00:00</td>\n",
       "      <td>34.70</td>\n",
       "    </tr>\n",
       "    <tr>\n",
       "      <th>253427</th>\n",
       "      <td>2019-05-31 14:05:00</td>\n",
       "      <td>34.60</td>\n",
       "    </tr>\n",
       "    <tr>\n",
       "      <th>253428</th>\n",
       "      <td>2019-05-31 14:10:00</td>\n",
       "      <td>34.55</td>\n",
       "    </tr>\n",
       "    <tr>\n",
       "      <th>253429</th>\n",
       "      <td>2019-05-31 14:15:00</td>\n",
       "      <td>34.57</td>\n",
       "    </tr>\n",
       "  </tbody>\n",
       "</table>\n",
       "<p>253430 rows × 2 columns</p>\n",
       "</div>"
      ],
      "text/plain": [
       "                  timestamp  temperature\n",
       "0       2017-01-01 14:10:00          NaN\n",
       "1       2017-01-01 14:15:00        12.34\n",
       "2       2017-01-01 14:20:00        12.27\n",
       "3       2017-01-01 14:25:00        12.28\n",
       "4       2017-01-01 14:30:00        12.36\n",
       "...                     ...          ...\n",
       "253425  2019-05-31 13:55:00        34.71\n",
       "253426  2019-05-31 14:00:00        34.70\n",
       "253427  2019-05-31 14:05:00        34.60\n",
       "253428  2019-05-31 14:10:00        34.55\n",
       "253429  2019-05-31 14:15:00        34.57\n",
       "\n",
       "[253430 rows x 2 columns]"
      ]
     },
     "execution_count": 4,
     "metadata": {},
     "output_type": "execute_result"
    }
   ],
   "source": [
    "temperature_df"
   ]
  },
  {
   "cell_type": "code",
   "execution_count": 8,
   "id": "cadbe163",
   "metadata": {},
   "outputs": [
    {
     "data": {
      "text/plain": [
       "<bound method Series.isna of 0           NaN\n",
       "1         12.34\n",
       "2         12.27\n",
       "3         12.28\n",
       "4         12.36\n",
       "          ...  \n",
       "253425    34.71\n",
       "253426    34.70\n",
       "253427    34.60\n",
       "253428    34.55\n",
       "253429    34.57\n",
       "Name: temperature, Length: 253430, dtype: float64>"
      ]
     },
     "execution_count": 8,
     "metadata": {},
     "output_type": "execute_result"
    }
   ],
   "source": [
    "temperature_df['temperature'].isna"
   ]
  },
  {
   "cell_type": "code",
   "execution_count": null,
   "id": "90986a5c",
   "metadata": {},
   "outputs": [],
   "source": []
  }
 ],
 "metadata": {
  "kernelspec": {
   "display_name": ".venv",
   "language": "python",
   "name": "python3"
  },
  "language_info": {
   "codemirror_mode": {
    "name": "ipython",
    "version": 3
   },
   "file_extension": ".py",
   "mimetype": "text/x-python",
   "name": "python",
   "nbconvert_exporter": "python",
   "pygments_lexer": "ipython3",
   "version": "3.12.9"
  }
 },
 "nbformat": 4,
 "nbformat_minor": 5
}
