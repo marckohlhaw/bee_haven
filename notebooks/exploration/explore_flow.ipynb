{
 "cells": [
  {
   "cell_type": "code",
   "execution_count": 2,
   "id": "f8665720",
   "metadata": {},
   "outputs": [],
   "source": [
    "import pandas as pd\n",
    "from pathlib import Path"
   ]
  },
  {
   "cell_type": "code",
   "execution_count": 5,
   "id": "05be0f1a",
   "metadata": {},
   "outputs": [],
   "source": [
    "BRONZE_DIR = Path('../../data/bronze/new')"
   ]
  },
  {
   "cell_type": "code",
   "execution_count": 6,
   "id": "3aae7d14",
   "metadata": {},
   "outputs": [],
   "source": [
    "flow_df = pd.read_csv(BRONZE_DIR / 'flow_schwartau.csv')"
   ]
  },
  {
   "cell_type": "code",
   "execution_count": 7,
   "id": "c22b29bb",
   "metadata": {},
   "outputs": [
    {
     "data": {
      "text/html": [
       "<div>\n",
       "<style scoped>\n",
       "    .dataframe tbody tr th:only-of-type {\n",
       "        vertical-align: middle;\n",
       "    }\n",
       "\n",
       "    .dataframe tbody tr th {\n",
       "        vertical-align: top;\n",
       "    }\n",
       "\n",
       "    .dataframe thead th {\n",
       "        text-align: right;\n",
       "    }\n",
       "</style>\n",
       "<table border=\"1\" class=\"dataframe\">\n",
       "  <thead>\n",
       "    <tr style=\"text-align: right;\">\n",
       "      <th></th>\n",
       "      <th>timestamp</th>\n",
       "      <th>flow</th>\n",
       "    </tr>\n",
       "  </thead>\n",
       "  <tbody>\n",
       "    <tr>\n",
       "      <th>0</th>\n",
       "      <td>2017-01-01 14:15:00</td>\n",
       "      <td>0</td>\n",
       "    </tr>\n",
       "    <tr>\n",
       "      <th>1</th>\n",
       "      <td>2017-01-01 14:16:00</td>\n",
       "      <td>0</td>\n",
       "    </tr>\n",
       "    <tr>\n",
       "      <th>2</th>\n",
       "      <td>2017-01-01 14:17:00</td>\n",
       "      <td>0</td>\n",
       "    </tr>\n",
       "    <tr>\n",
       "      <th>3</th>\n",
       "      <td>2017-01-01 14:18:00</td>\n",
       "      <td>0</td>\n",
       "    </tr>\n",
       "    <tr>\n",
       "      <th>4</th>\n",
       "      <td>2017-01-01 14:19:00</td>\n",
       "      <td>0</td>\n",
       "    </tr>\n",
       "    <tr>\n",
       "      <th>...</th>\n",
       "      <td>...</td>\n",
       "      <td>...</td>\n",
       "    </tr>\n",
       "    <tr>\n",
       "      <th>2513831</th>\n",
       "      <td>2019-05-31 14:11:00</td>\n",
       "      <td>128</td>\n",
       "    </tr>\n",
       "    <tr>\n",
       "      <th>2513832</th>\n",
       "      <td>2019-05-31 14:12:00</td>\n",
       "      <td>140</td>\n",
       "    </tr>\n",
       "    <tr>\n",
       "      <th>2513833</th>\n",
       "      <td>2019-05-31 14:13:00</td>\n",
       "      <td>144</td>\n",
       "    </tr>\n",
       "    <tr>\n",
       "      <th>2513834</th>\n",
       "      <td>2019-05-31 14:14:00</td>\n",
       "      <td>146</td>\n",
       "    </tr>\n",
       "    <tr>\n",
       "      <th>2513835</th>\n",
       "      <td>2019-05-31 14:15:00</td>\n",
       "      <td>164</td>\n",
       "    </tr>\n",
       "  </tbody>\n",
       "</table>\n",
       "<p>2513836 rows × 2 columns</p>\n",
       "</div>"
      ],
      "text/plain": [
       "                   timestamp  flow\n",
       "0        2017-01-01 14:15:00     0\n",
       "1        2017-01-01 14:16:00     0\n",
       "2        2017-01-01 14:17:00     0\n",
       "3        2017-01-01 14:18:00     0\n",
       "4        2017-01-01 14:19:00     0\n",
       "...                      ...   ...\n",
       "2513831  2019-05-31 14:11:00   128\n",
       "2513832  2019-05-31 14:12:00   140\n",
       "2513833  2019-05-31 14:13:00   144\n",
       "2513834  2019-05-31 14:14:00   146\n",
       "2513835  2019-05-31 14:15:00   164\n",
       "\n",
       "[2513836 rows x 2 columns]"
      ]
     },
     "execution_count": 7,
     "metadata": {},
     "output_type": "execute_result"
    }
   ],
   "source": [
    "flow_df"
   ]
  },
  {
   "cell_type": "code",
   "execution_count": 8,
   "id": "de93ba34",
   "metadata": {},
   "outputs": [
    {
     "name": "stdout",
     "output_type": "stream",
     "text": [
      "<class 'pandas.core.frame.DataFrame'>\n",
      "RangeIndex: 2513836 entries, 0 to 2513835\n",
      "Data columns (total 2 columns):\n",
      " #   Column     Dtype \n",
      "---  ------     ----- \n",
      " 0   timestamp  object\n",
      " 1   flow       int64 \n",
      "dtypes: int64(1), object(1)\n",
      "memory usage: 38.4+ MB\n"
     ]
    }
   ],
   "source": [
    "flow_df.info()"
   ]
  },
  {
   "cell_type": "code",
   "execution_count": null,
   "id": "64b4c809",
   "metadata": {},
   "outputs": [],
   "source": []
  }
 ],
 "metadata": {
  "kernelspec": {
   "display_name": ".venv",
   "language": "python",
   "name": "python3"
  },
  "language_info": {
   "codemirror_mode": {
    "name": "ipython",
    "version": 3
   },
   "file_extension": ".py",
   "mimetype": "text/x-python",
   "name": "python",
   "nbconvert_exporter": "python",
   "pygments_lexer": "ipython3",
   "version": "3.12.9"
  }
 },
 "nbformat": 4,
 "nbformat_minor": 5
}
