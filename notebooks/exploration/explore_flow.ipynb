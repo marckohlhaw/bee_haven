{
 "cells": [
  {
   "cell_type": "code",
   "execution_count": 2,
   "id": "f8665720",
   "metadata": {},
   "outputs": [],
   "source": [
    "import pandas as pd\n",
    "from pathlib import Path"
   ]
  },
  {
   "cell_type": "code",
   "execution_count": 3,
   "id": "05be0f1a",
   "metadata": {},
   "outputs": [],
   "source": [
    "BRONZE_DIR = Path('../../data/bronze/new')"
   ]
  },
  {
   "cell_type": "code",
   "execution_count": 4,
   "id": "3aae7d14",
   "metadata": {},
   "outputs": [],
   "source": [
    "flow_df = pd.read_csv(BRONZE_DIR / 'flow_schwartau.csv')"
   ]
  },
  {
   "cell_type": "code",
   "execution_count": 6,
   "id": "c22b29bb",
   "metadata": {},
   "outputs": [
    {
     "data": {
      "text/plain": [
       "timestamp    1256918.0\n",
       "flow         1256918.0\n",
       "dtype: float64"
      ]
     },
     "execution_count": 6,
     "metadata": {},
     "output_type": "execute_result"
    }
   ],
   "source": [
    "flow_df.count()/2"
   ]
  },
  {
   "cell_type": "code",
   "execution_count": 8,
   "id": "de93ba34",
   "metadata": {},
   "outputs": [
    {
     "name": "stdout",
     "output_type": "stream",
     "text": [
      "<class 'pandas.core.frame.DataFrame'>\n",
      "RangeIndex: 2513836 entries, 0 to 2513835\n",
      "Data columns (total 2 columns):\n",
      " #   Column     Dtype \n",
      "---  ------     ----- \n",
      " 0   timestamp  object\n",
      " 1   flow       int64 \n",
      "dtypes: int64(1), object(1)\n",
      "memory usage: 38.4+ MB\n"
     ]
    }
   ],
   "source": [
    "flow_df.info()"
   ]
  },
  {
   "cell_type": "code",
   "execution_count": null,
   "id": "64b4c809",
   "metadata": {},
   "outputs": [],
   "source": []
  }
 ],
 "metadata": {
  "kernelspec": {
   "display_name": ".venv",
   "language": "python",
   "name": "python3"
  },
  "language_info": {
   "codemirror_mode": {
    "name": "ipython",
    "version": 3
   },
   "file_extension": ".py",
   "mimetype": "text/x-python",
   "name": "python",
   "nbconvert_exporter": "python",
   "pygments_lexer": "ipython3",
   "version": "3.12.9"
  }
 },
 "nbformat": 4,
 "nbformat_minor": 5
}
