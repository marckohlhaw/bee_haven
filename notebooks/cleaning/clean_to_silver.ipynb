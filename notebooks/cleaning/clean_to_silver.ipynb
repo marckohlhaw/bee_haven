{
 "cells": [
  {
   "cell_type": "markdown",
   "id": "9fbe9e07",
   "metadata": {},
   "source": [
    "### Import Libraries"
   ]
  },
  {
   "cell_type": "code",
   "execution_count": 1,
   "id": "e9acb659",
   "metadata": {},
   "outputs": [],
   "source": [
    "import pandas as pd\n",
    "import numpy as np\n",
    "from pathlib import Path\n",
    "from datetime import datetime"
   ]
  },
  {
   "cell_type": "markdown",
   "id": "f1b895ab",
   "metadata": {},
   "source": [
    "### Set Paths"
   ]
  },
  {
   "cell_type": "code",
   "execution_count": 12,
   "id": "8e16694c",
   "metadata": {},
   "outputs": [],
   "source": [
    "BRONZE_DIR = Path('../../data/bronze/new')\n",
    "SILVER_DIR = Path('../../data/silver/cleaned_parquet')"
   ]
  },
  {
   "cell_type": "markdown",
   "id": "96d64859",
   "metadata": {},
   "source": [
    "### Utility functions"
   ]
  },
  {
   "cell_type": "code",
   "execution_count": 23,
   "id": "67cc6f5d",
   "metadata": {},
   "outputs": [],
   "source": [
    "def convert_to_datetime(df, column):\n",
    "    df[column] = pd.to_datetime(df[column], errors='coerce', utc=True)\n",
    "    return df"
   ]
  },
  {
   "cell_type": "markdown",
   "id": "d1a2678f",
   "metadata": {},
   "source": [
    "### Clean flow file"
   ]
  },
  {
   "cell_type": "code",
   "execution_count": null,
   "id": "1c8ac115",
   "metadata": {},
   "outputs": [],
   "source": [
    "# load file into pandas DataFrame\n",
    "\n",
    "flow_df = pd.read_csv(BRONZE_DIR / 'flow_schwartau.csv')"
   ]
  },
  {
   "cell_type": "code",
   "execution_count": null,
   "id": "e2c34ce8",
   "metadata": {},
   "outputs": [],
   "source": [
    "# Convert timestamp to datetime\n",
    "\n",
    "flow_df = convert_to_datetime(flow_df, 'timestamp')"
   ]
  },
  {
   "cell_type": "code",
   "execution_count": null,
   "id": "6d72e17a",
   "metadata": {},
   "outputs": [],
   "source": []
  }
 ],
 "metadata": {
  "kernelspec": {
   "display_name": ".venv",
   "language": "python",
   "name": "python3"
  },
  "language_info": {
   "codemirror_mode": {
    "name": "ipython",
    "version": 3
   },
   "file_extension": ".py",
   "mimetype": "text/x-python",
   "name": "python",
   "nbconvert_exporter": "python",
   "pygments_lexer": "ipython3",
   "version": "3.12.9"
  }
 },
 "nbformat": 4,
 "nbformat_minor": 5
}
